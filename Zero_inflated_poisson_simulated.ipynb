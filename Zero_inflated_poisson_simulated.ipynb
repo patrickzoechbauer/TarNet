{
  "nbformat": 4,
  "nbformat_minor": 0,
  "metadata": {
    "colab": {
      "name": "Zero_inflated_poisson_simulated.ipynb",
      "provenance": [],
      "collapsed_sections": [],
      "authorship_tag": "ABX9TyNgwujpRoleQ/8rpMOwnC2p",
      "include_colab_link": true
    },
    "kernelspec": {
      "name": "python3",
      "display_name": "Python 3"
    },
    "language_info": {
      "name": "python"
    }
  },
  "cells": [
    {
      "cell_type": "markdown",
      "metadata": {
        "id": "view-in-github",
        "colab_type": "text"
      },
      "source": [
        "<a href=\"https://colab.research.google.com/github/patrickzoechbauer/TarNet/blob/main/Zero_inflated_poisson_simulated.ipynb\" target=\"_parent\"><img src=\"https://colab.research.google.com/assets/colab-badge.svg\" alt=\"Open In Colab\"/></a>"
      ]
    },
    {
      "cell_type": "code",
      "execution_count": 2,
      "metadata": {
        "colab": {
          "base_uri": "https://localhost:8080/"
        },
        "id": "-SXMfrgNlZWM",
        "outputId": "d6deefdb-bfb7-48e7-c9b8-27359e6f3064"
      },
      "outputs": [
        {
          "output_type": "stream",
          "name": "stdout",
          "text": [
            "Collecting numpyro\n",
            "  Downloading numpyro-0.9.2-py3-none-any.whl (283 kB)\n",
            "\u001b[K     |████████████████████████████████| 283 kB 4.0 MB/s \n",
            "\u001b[?25hRequirement already satisfied: numpy in /usr/local/lib/python3.7/dist-packages (from numpyro) (1.21.6)\n",
            "Requirement already satisfied: jaxlib>=0.1.65 in /usr/local/lib/python3.7/dist-packages (from numpyro) (0.3.2+cuda11.cudnn805)\n",
            "Requirement already satisfied: tqdm in /usr/local/lib/python3.7/dist-packages (from numpyro) (4.64.0)\n",
            "Requirement already satisfied: jax>=0.2.13 in /usr/local/lib/python3.7/dist-packages (from numpyro) (0.3.4)\n",
            "Collecting multipledispatch\n",
            "  Downloading multipledispatch-0.6.0-py3-none-any.whl (11 kB)\n",
            "Requirement already satisfied: scipy>=1.2.1 in /usr/local/lib/python3.7/dist-packages (from jax>=0.2.13->numpyro) (1.4.1)\n",
            "Requirement already satisfied: typing-extensions in /usr/local/lib/python3.7/dist-packages (from jax>=0.2.13->numpyro) (4.1.1)\n",
            "Requirement already satisfied: opt-einsum in /usr/local/lib/python3.7/dist-packages (from jax>=0.2.13->numpyro) (3.3.0)\n",
            "Requirement already satisfied: absl-py in /usr/local/lib/python3.7/dist-packages (from jax>=0.2.13->numpyro) (1.0.0)\n",
            "Requirement already satisfied: flatbuffers<3.0,>=1.12 in /usr/local/lib/python3.7/dist-packages (from jaxlib>=0.1.65->numpyro) (2.0)\n",
            "Requirement already satisfied: six in /usr/local/lib/python3.7/dist-packages (from absl-py->jax>=0.2.13->numpyro) (1.15.0)\n",
            "Installing collected packages: multipledispatch, numpyro\n",
            "Successfully installed multipledispatch-0.6.0 numpyro-0.9.2\n"
          ]
        }
      ],
      "source": [
        "import argparse\n",
        "import os\n",
        "import random\n",
        "\n",
        "import matplotlib\n",
        "import matplotlib.pyplot as plt\n",
        "import matplotlib.patches as mpatches\n",
        "import numpy as np\n",
        "import pandas as pd\n",
        "from sklearn.metrics import mean_squared_error\n",
        "from scipy.special import expit, logit\n",
        "\n",
        "import jax.numpy as jnp\n",
        "from jax.random import PRNGKey\n",
        "import jax.scipy as jsp\n",
        "\n",
        "!pip install numpyro\n",
        "import numpyro\n",
        "import numpyro.distributions as dist\n",
        "from numpyro.infer import MCMC, NUTS, SVI, Predictive, Trace_ELBO, autoguide"
      ]
    },
    {
      "cell_type": "code",
      "source": [
        "def set_seed(seed):\n",
        "    random.seed(seed)\n",
        "    np.random.seed(seed)\n",
        "  \n",
        "set_seed(0)"
      ],
      "metadata": {
        "id": "X_WPOag7ldLg"
      },
      "execution_count": 3,
      "outputs": []
    },
    {
      "cell_type": "markdown",
      "source": [
        "**Explanation:**\n",
        "\n",
        "This example is inspired by the [fishing-data set](https://num.pyro.ai/en/latest/examples/zero_inflated_poisson.html). However, I used simulated data so that it is possible to compare the posterior estimates of MCMC and ADVI with the ground truth. \n",
        "\n",
        "**Findings:**\n",
        "\n",
        "The example demonstrates that the posterior distribution from VI has lower variance compared to MCMC.\n",
        "\n",
        "\n",
        "\n",
        "---\n",
        "\n",
        "\n",
        "**Data generation:** The data generating process is given by: \n",
        "\n",
        "\\begin{align*}\n",
        "b_1 &= (0, -1.1, 0.8, -1.2, 2.1) \\\\\n",
        "b_2 &= (0.5, 0.1, 0, 0.3, -0.7)\\\\\n",
        "X_i^j &\\sim \\text{Binomal}(2, 0.7) \\quad \\text{for } i=1,...,n, j=1,...,3\\\\\n",
        "X_i^4 &= 1 \\text{ (intercept)} \\\\\n",
        "ɛ_i &\\sim \\mathcal{N}(0, \\sigma_\\lambda) \\quad \\text{for } i=1,...,n\\\\\n",
        "\\lambda(X_i) &= \\exp(X_i b_2 + ɛ_i) \\\\\n",
        "\\delta_i &\\sim \\mathcal{N}(0, \\sigma_\\pi) \\quad \\text{for } i=1,...,n\\\\\n",
        "\\pi(X_i) &= \\text{logit}^{-1}(X_i b_1+\\delta_i) \\\\\n",
        "N_i &\\sim \\text{Pois}(\\lambda(X_i)) \\\\\n",
        "B_i &\\sim \\text{Bernoulli}(\\pi(X_i)) \\\\\n",
        "Y_i &= N_i B_i\n",
        "\\end{align*}\n"
      ],
      "metadata": {
        "id": "h6UqkAXXmvuk"
      }
    },
    {
      "cell_type": "code",
      "source": [
        "def simulate_data(num_samples=200, sigma_lam=1, sigma_pi=1):\n",
        "  b1 = np.array([0, -1.1, 0.8, -1.2, 2.1]).reshape(1,-1)\n",
        "  b2 = np.array([0.5, 0.1, 0, 0.3, -0.7]).reshape(1,-1)\n",
        "  dims = b1.shape[1]-1\n",
        "\n",
        "  #X = np.random.randn(num_samples, dims).astype(np.float64)\n",
        "  X = np.random.binomial(2, 0.7, size = (num_samples, dims)).astype(np.float64)\n",
        "  #Add intercept for X\n",
        "  X = np.c_[ X, np.ones(num_samples) ]  \n",
        "\n",
        "  #Simulate lambda\n",
        "  #b2 = 0.5*np.random.randn(1,dims+1).astype(np.float64)\n",
        "  noise = np.random.normal(0, sigma_lam, num_samples).astype(np.float64).reshape(-1,1)\n",
        "  log_lambda = np.matmul(X, b2.T) + noise #+ mu_lambda\n",
        "  #print(np.mean(np.exp(log_lambda)))\n",
        "\n",
        "  #draw from poisson: \n",
        "  pois_draws = np.random.poisson(lam = np.exp(log_lambda))\n",
        "\n",
        "  #Simulate pi\n",
        "  #b1 = np.random.randn(1,dims+1).astype(np.float64)\n",
        "  noise = np.random.normal(0, sigma_pi, num_samples).astype(np.float64).reshape(-1,1)\n",
        "  logit_pi = np.matmul(X, b1.T) + noise #+ mu_pi\n",
        "\n",
        "  #draw from bernoulli\n",
        "  bernoulli_draws = np.random.binomial(1, 1-expit(logit_pi))\n",
        "  #print(np.mean(1-expit(logit_pi)))\n",
        "\n",
        "  #zero-flated poisson\n",
        "  y = pois_draws*bernoulli_draws\n",
        "\n",
        "  cols = [\"var\"+str(i+1) for i in range(dims)]\n",
        "  cols.append(\"intercept\")\n",
        "  \n",
        "  return X, y.squeeze(), b1, b2, cols"
      ],
      "metadata": {
        "id": "4zxi2Pu2lhdz"
      },
      "execution_count": 4,
      "outputs": []
    },
    {
      "cell_type": "code",
      "source": [
        "#Simulate data and split in train and test\n",
        "X, y, b1, b2, cols = simulate_data()\n",
        "\n",
        "mask = np.random.randn(len(y)) < 0.8\n",
        "X_train = X[mask,:]\n",
        "X_test = X[~mask,:]\n",
        "y_train = y[mask]\n",
        "y_test = y[~mask]"
      ],
      "metadata": {
        "id": "55R3PhzIpgzv"
      },
      "execution_count": 5,
      "outputs": []
    },
    {
      "cell_type": "code",
      "source": [
        "# Define bayesian model\n",
        "def model(X, Y):\n",
        "    D_X = X.shape[1]\n",
        "    b1 = numpyro.sample(\"b1\", dist.Normal(0.0, 1.0).expand([D_X]).to_event(1))\n",
        "    b2 = numpyro.sample(\"b2\", dist.Normal(0.0, 1.0).expand([D_X]).to_event(1))\n",
        "\n",
        "    pi = jsp.special.expit(jnp.dot(X, b1[:, None])).reshape(-1) # logistic regression \n",
        "    \n",
        "    lam = jnp.exp(jnp.dot(X, b2[:, None]).reshape(-1))\n",
        "\n",
        "    with numpyro.plate(\"obs\", X.shape[0]):\n",
        "        numpyro.sample(\"Y\", dist.ZeroInflatedPoisson(gate=pi, rate=lam), obs=Y)"
      ],
      "metadata": {
        "id": "bnztG69Fosam"
      },
      "execution_count": 6,
      "outputs": []
    },
    {
      "cell_type": "code",
      "source": [
        "# Function to run MCMC with NUTS sampler\n",
        "def run_mcmc(model, num_warmup, num_samples, num_chains, X, Y):\n",
        "    kernel = NUTS(model)\n",
        "    mcmc = MCMC(\n",
        "        kernel,\n",
        "        num_warmup=num_warmup,\n",
        "        num_samples=num_samples,\n",
        "        num_chains=num_chains,\n",
        "    )\n",
        "    mcmc.run(PRNGKey(1), X, Y)\n",
        "    mcmc.print_summary()\n",
        "    return mcmc.get_samples()"
      ],
      "metadata": {
        "id": "6Un6YoY4pVMu"
      },
      "execution_count": 7,
      "outputs": []
    },
    {
      "cell_type": "code",
      "source": [
        "# Function to run ADVI with mean-field approximation\n",
        "def run_ADVI(model, guide_family, maxiter, X, Y):\n",
        "    if guide_family == \"AutoDelta\":\n",
        "        guide = autoguide.AutoDelta(model)\n",
        "    elif guide_family == \"AutoDiagonalNormal\":\n",
        "        guide = autoguide.AutoDiagonalNormal(model)\n",
        "\n",
        "    optimizer = numpyro.optim.Adam(0.001)\n",
        "    svi = SVI(model, guide, optimizer, Trace_ELBO())\n",
        "    svi_results = svi.run(PRNGKey(1), maxiter, X=X, Y=Y)\n",
        "    params = svi_results.params\n",
        "\n",
        "    return params, guide"
      ],
      "metadata": {
        "id": "WJlmgtFGpVy6"
      },
      "execution_count": 8,
      "outputs": []
    },
    {
      "cell_type": "code",
      "source": [
        "# Run both VI and MCMC\n",
        "print(\"run VI.\")\n",
        "vi_params, vi_guide = run_ADVI(model, \"AutoDiagonalNormal\", 30000, X_train, y_train)\n",
        "\n",
        "print(\"run MCMC.\")\n",
        "num_warmups = 2000\n",
        "num_samples = 2000\n",
        "num_chains = 1\n",
        "posterior_samples = run_mcmc(model, num_warmups,\n",
        "                             num_samples, num_chains,\n",
        "                             X_train, y_train)"
      ],
      "metadata": {
        "colab": {
          "base_uri": "https://localhost:8080/"
        },
        "id": "XScw71z9pXGH",
        "outputId": "d350cab2-65f2-4ec0-8b1e-67a7ceb8ece5"
      },
      "execution_count": 9,
      "outputs": [
        {
          "output_type": "stream",
          "name": "stdout",
          "text": [
            "run VI.\n"
          ]
        },
        {
          "output_type": "stream",
          "name": "stderr",
          "text": [
            "100%|██████████| 30000/30000 [00:14<00:00, 2065.17it/s, init loss: 1313.4320, avg. loss [28501-30000]: 341.5468]\n"
          ]
        },
        {
          "output_type": "stream",
          "name": "stdout",
          "text": [
            "run MCMC.\n"
          ]
        },
        {
          "output_type": "stream",
          "name": "stderr",
          "text": [
            "sample: 100%|██████████| 4000/4000 [00:08<00:00, 478.74it/s, 31 steps of size 1.16e-01. acc. prob=0.94]\n"
          ]
        },
        {
          "output_type": "stream",
          "name": "stdout",
          "text": [
            "\n",
            "                mean       std    median      5.0%     95.0%     n_eff     r_hat\n",
            "     b1[0]      0.16      0.31      0.15     -0.36      0.64   1480.89      1.00\n",
            "     b1[1]     -0.91      0.28     -0.91     -1.41     -0.48   2149.49      1.00\n",
            "     b1[2]      0.43      0.27      0.42      0.00      0.90   2228.83      1.00\n",
            "     b1[3]     -0.47      0.26     -0.47     -0.89     -0.02   2157.70      1.00\n",
            "     b1[4]      1.42      0.68      1.42      0.32      2.52   1333.99      1.00\n",
            "     b2[0]      1.01      0.14      1.01      0.77      1.23   1363.23      1.00\n",
            "     b2[1]     -0.29      0.10     -0.30     -0.47     -0.15   2647.12      1.00\n",
            "     b2[2]     -0.14      0.09     -0.14     -0.29      0.00   2869.89      1.00\n",
            "     b2[3]      0.24      0.11      0.24      0.06      0.42   2076.38      1.00\n",
            "     b2[4]      0.13      0.34      0.13     -0.40      0.72   1322.45      1.00\n",
            "\n",
            "Number of divergences: 0\n"
          ]
        }
      ]
    },
    {
      "cell_type": "code",
      "source": [
        "# Evaluate prediction:\n",
        "def svi_predict(model, guide, params, num_samples, X):\n",
        "    predictive = Predictive(\n",
        "            model=model, guide=guide, params=params, num_samples=num_samples\n",
        "    )\n",
        "    predictions = predictive(PRNGKey(1), X=X, Y=None)\n",
        "    svi_predictions = jnp.rint(predictions[\"Y\"].mean(0))\n",
        "    return svi_predictions\n",
        "\n",
        "vi_predictions = svi_predict(model, vi_guide, vi_params, num_samples, X_test)\n",
        "\n",
        "predictive = Predictive(model, posterior_samples=posterior_samples)\n",
        "predictions = predictive(PRNGKey(1), X=X_test, Y=None)\n",
        "mcmc_predictions = jnp.rint(predictions[\"Y\"].mean(0))\n",
        "\n",
        "print(\"VI RMSE: {}\".format(mean_squared_error(y_test, \n",
        "                                              vi_predictions.to_py(), \n",
        "                                              squared=False)))\n",
        "\n",
        "print(\"MCMC RMSE: {}\".format(mean_squared_error(y_test,\n",
        "                                                 mcmc_predictions.to_py(),\n",
        "                                                 squared=False)))"
      ],
      "metadata": {
        "id": "CKm4Ha0UqWbl",
        "colab": {
          "base_uri": "https://localhost:8080/"
        },
        "outputId": "1f606096-37ff-42c7-b5e7-874168ebf6cc"
      },
      "execution_count": 10,
      "outputs": [
        {
          "output_type": "stream",
          "name": "stdout",
          "text": [
            "VI RMSE: 2.4790791301072526\n",
            "MCMC RMSE: 2.4916527312876755\n"
          ]
        }
      ]
    },
    {
      "cell_type": "code",
      "source": [
        "# Plot posterior distriutions against ground truth\n",
        "\n",
        "def plotResults(varname):\n",
        "  samples_mcmc = posterior_samples[varname]\n",
        "  samples_vi = vi_guide.sample_posterior(PRNGKey(1), vi_params, (2000,))[varname]\n",
        "\n",
        "  fig, ax = plt.subplots()\n",
        "  labels = []\n",
        "\n",
        "  v1 = ax.violinplot(\n",
        "      [samples_mcmc[:, i].to_py() for i in range(len(cols))]\n",
        "      )\n",
        "  c1 = v1['bodies'][0].get_facecolor().flatten()\n",
        "  labels.append((mpatches.Patch(color=c1), 'MCMC'))\n",
        "\n",
        "  v2 = ax.violinplot(\n",
        "      [samples_vi[:, i].to_py() for i in range(len(cols))]\n",
        "      )\n",
        "  c2 = v2['bodies'][0].get_facecolor().flatten()\n",
        "  labels.append((mpatches.Patch(color=c2), 'ADVI'))\n",
        "\n",
        "  #add ground truth\n",
        "  for i in range(len(cols)):\n",
        "    ax.hlines(y=eval(varname).squeeze()[i], xmin=(i+1)-0.1, xmax=(i+1)+0.1, linewidth=2, color='r')\n",
        "\n",
        "  ax.set_xticks(np.arange(1, len(cols) + 1))\n",
        "  ax.set_xticklabels(cols, rotation=45, fontsize=10)\n",
        "  ax.legend(*zip(*labels), loc=2)\n",
        "  plt.title(\"Posterior distribiton for \"+varname)\n",
        "\n",
        "plotResults(\"b1\")\n",
        "plotResults(\"b2\")"
      ],
      "metadata": {
        "colab": {
          "base_uri": "https://localhost:8080/",
          "height": 603
        },
        "id": "XtiDPiK5qvdy",
        "outputId": "63cbb51c-a69d-4cd3-ff42-d0ca754ac630"
      },
      "execution_count": 11,
      "outputs": [
        {
          "output_type": "display_data",
          "data": {
            "text/plain": [
              "<Figure size 432x288 with 1 Axes>"
            ],
            "image/png": "[encoded data removed]"
          },
          "metadata": {
            "needs_background": "light"
          }
        },
        {
          "output_type": "display_data",
          "data": {
            "text/plain": [
              "<Figure size 432x288 with 1 Axes>"
            ],
            "image/png": "[encoded data removed]"
          },
          "metadata": {
            "needs_background": "light"
          }
        }
      ]
    }
  ]
}