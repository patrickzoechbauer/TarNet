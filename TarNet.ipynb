{
 "cells": [
  {
   "cell_type": "markdown",
   "id": "6a3ef25d",
   "metadata": {},
   "source": [
    "## 0. Load packages"
   ]
  },
  {
   "cell_type": "code",
   "execution_count": 14,
   "id": "027d869f",
   "metadata": {},
   "outputs": [],
   "source": [
    "import torch\n",
    "import torch.nn as nn\n",
    "import torch.optim as optim\n",
    "from torch.optim import SGD\n",
    "import numpy as np\n",
    "import seaborn as sns\n",
    "import requests\n",
    "import pyreadr\n",
    "from matplotlib import pyplot as plt"
   ]
  },
  {
   "cell_type": "markdown",
   "id": "ace55d0b",
   "metadata": {},
   "source": [
    "## 1. Implement a TARNet for predicting Conditional Average Treatment Effects (CATE)"
   ]
  },
  {
   "cell_type": "code",
   "execution_count": 7,
   "id": "123649bb",
   "metadata": {},
   "outputs": [],
   "source": [
    "class TarNet(nn.Module):\n",
    "    def __init__(self, input_dim):\n",
    "        super(TarNet, self).__init__()\n",
    "        \n",
    "        self.input_dim = input_dim \n",
    "        \n",
    "        #Representation phi\n",
    "        self.phi = nn.Sequential(\n",
    "            nn.Linear(self.input_dim, 256),\n",
    "            nn.ELU(),\n",
    "            nn.Linear(256, 256),\n",
    "            nn.ELU(),\n",
    "            nn.Linear(256, 256),\n",
    "            nn.ELU()\n",
    "        )\n",
    "        \n",
    "        self.treatment = nn.Sequential(\n",
    "            nn.Linear(self.input_dim, 1),\n",
    "            nn.Sigmoid()\n",
    "        )\n",
    "        \n",
    "        #Layer of factual and counter factural\n",
    "        self.y0 = nn.Sequential(\n",
    "            nn.Linear(256, 64),\n",
    "            nn.ELU(),\n",
    "            nn.Linear(64, 1) \n",
    "        )\n",
    "        \n",
    "        self.y1 = nn.Sequential(\n",
    "            nn.Linear(256, 64), \n",
    "            nn.ELU(),\n",
    "            nn.Linear(64, 1)\n",
    "        )\n",
    "          \n",
    "    def forward(self, inputs):\n",
    "        phi = self.phi(inputs)\n",
    "        \n",
    "        t_hat = self.treatment(inputs)\n",
    "        y0_hat = self.y0(phi)\n",
    "        y1_hat = self.y1(phi)\n",
    "                \n",
    "        out = torch.cat((y0_hat, y1_hat, t_hat), 1)\n",
    "        return out"
   ]
  },
  {
   "cell_type": "code",
   "execution_count": 8,
   "id": "ac191c81",
   "metadata": {},
   "outputs": [],
   "source": [
    "def lossFunc(y_true, t_true, predictions):\n",
    "    y = y_true.reshape(-1,1)\n",
    "    t = t_true.reshape(-1,1)\n",
    "    \n",
    "    y0_hat = predictions[:,0].reshape(-1,1)\n",
    "    y1_hat = predictions[:,1].reshape(-1,1)\n",
    "    \n",
    "    loss = torch.sum((1-t)*(y-y0_hat)**2) + torch.sum(t * (y-y1_hat)**2)\n",
    "    \n",
    "    return loss"
   ]
  },
  {
   "cell_type": "markdown",
   "id": "e42c9433",
   "metadata": {},
   "source": [
    "## 2. Implement the IHDP dataset with response surface B as described in Bayesian Nonparametric Modeling for Causal Inference."
   ]
  },
  {
   "cell_type": "code",
   "execution_count": 9,
   "id": "c333c50f",
   "metadata": {},
   "outputs": [],
   "source": [
    "def response_surface_B(t, X):\n",
    "    #Offset matrix\n",
    "    W = np.ones(X.shape)*0.5\n",
    "\n",
    "    #Regression vector\n",
    "    vals = [0, 0.1, 0.2, 0.3, 0.4]\n",
    "    probabilities = [0.6, 0.1, 0.1, 0.1, 0.1]\n",
    "    \n",
    "    np.random.seed(4)\n",
    "    beta_B = np.random.choice(vals, X.shape[1], p = probabilities)\n",
    "\n",
    "    mean_y0 = np.exp(np.dot((X+W), beta_B))\n",
    "    sigma_y0 = 1\n",
    "\n",
    "    mean_y1 = np.dot(X, beta_B)-15\n",
    "    sigma_y1 = 1\n",
    "\n",
    "    y0 = np.random.normal(mean_y0).reshape(-1, 1)\n",
    "    y1 = np.random.normal(mean_y1).reshape(-1, 1)\n",
    "    \n",
    "    y = (1-t)*y0 + t*y1\n",
    "    \n",
    "    return y, y0, y1"
   ]
  },
  {
   "cell_type": "markdown",
   "id": "018ef0a2",
   "metadata": {},
   "source": [
    "## 3. Generate 10 random train / valid / and test splits of the IHDP dataset"
   ]
  },
  {
   "cell_type": "code",
   "execution_count": 11,
   "id": "04504906",
   "metadata": {},
   "outputs": [],
   "source": [
    "#Fetch raw data from github\n",
    "res = requests.get('https://github.com/vdorie/npci/raw/master/examples/ihdp_sim/data/ihdp.RData')\n",
    "open('input_data.RData', 'wb').write(res.content)\n",
    "ihdp = pyreadr.read_r('input_data.RData')['ihdp']"
   ]
  },
  {
   "cell_type": "code",
   "execution_count": 12,
   "id": "42e5d48b",
   "metadata": {},
   "outputs": [],
   "source": [
    "def generate_data_sets(ihdp, seed, plot = False):\n",
    "    ihdpShuffled = ihdp.sample(frac = 1, random_state =  seed)\n",
    "\n",
    "    X = ihdp.loc[:, ihdp.columns != 'treat'].values\n",
    "\n",
    "    #Standardize X values\n",
    "    mu = np.mean(X, axis = 0)\n",
    "    sd = np.std(X, axis = 0)\n",
    "    X = ((X-mu)/sd)\n",
    "\n",
    "    t = ihdp.loc[:, ihdp.columns == 'treat'].values\n",
    "    y, y0, y1 = response_surface_B(t, X)\n",
    "\n",
    "    #train / valid / test splits: \n",
    "    N, D = X.shape\n",
    "    Ntrain = int(0.6 * N)\n",
    "    Nvalid = int(0.8 * N)\n",
    "\n",
    "    output = dict()\n",
    "    \n",
    "    output['X'] = [X[:Ntrain], X[Ntrain:Nvalid], X[Nvalid:]]\n",
    "    output['y'] = [y[:Ntrain], y[Ntrain:Nvalid], y[Nvalid:]]\n",
    "    output['t'] = [t[:Ntrain], t[Ntrain:Nvalid], t[Nvalid:]]\n",
    "    output['y0'] = [y0[:Ntrain], y0[Ntrain:Nvalid], y0[Nvalid:]]\n",
    "    output['y1'] = [y1[:Ntrain], y1[Ntrain:Nvalid], y1[Nvalid:]]\n",
    "    \n",
    "    if plot: \n",
    "        #plt.hist(y*t)\n",
    "        #plt.hist(y*(1-t))\n",
    "        sns.histplot(y[t==0], label = 'y | t = 0', color = 'blue')\n",
    "        sns.histplot(y[t==1], label = 'y | t = 1', color = 'green')\n",
    "        plt.legend()\n",
    "        print('Average for t=1: {}'.format(np.mean(t*y)))\n",
    "        print('Average for t=0: {}'.format(np.mean((1-t)*y)))\n",
    "        print('Average treatment effect: {}'.format(np.mean(t*y)- np.mean((1-t)*y)))\n",
    "        print('Average effect on treated (CATT): {}'.format(np.mean((y1-y0)*t)))\n",
    "    \n",
    "    return output, D"
   ]
  },
  {
   "cell_type": "code",
   "execution_count": 15,
   "id": "93a6c362",
   "metadata": {},
   "outputs": [
    {
     "name": "stdout",
     "output_type": "stream",
     "text": [
      "Average for t=1: -5.743027171851527\n",
      "Average for t=0: 5.636989313532902\n",
      "Average treatment effect: -11.380016485384429\n",
      "Average effect on treated (CATT): -9.485074403299825\n"
     ]
    },
    {
     "data": {
      "image/png": "[encoded data removed]",
      "text/plain": [
       "<Figure size 432x288 with 1 Axes>"
      ]
     },
     "metadata": {
      "needs_background": "light"
     },
     "output_type": "display_data"
    }
   ],
   "source": [
    "datasets, D = generate_data_sets(ihdp, 42, plot = True)"
   ]
  },
  {
   "cell_type": "markdown",
   "id": "5dfab94e",
   "metadata": {},
   "source": [
    "## 4. Train and tune one model on each of the 10 datasets you have created.\n"
   ]
  },
  {
   "cell_type": "code",
   "execution_count": 16,
   "id": "a054e1b9",
   "metadata": {},
   "outputs": [],
   "source": [
    "def next_batch(inputs, treatments, outcomes, batchSize):\n",
    "    # loop over the dataset\n",
    "    for i in range(0, inputs.shape[0], batchSize):\n",
    "        # yield a tuple of the current batched data and labels\n",
    "        yield (torch.from_numpy(inputs[i:i + batchSize].astype(np.float32)), \n",
    "               torch.from_numpy(treatments[i:i + batchSize].astype(np.float32)),\n",
    "               torch.from_numpy(outcomes[i:i + batchSize].astype(np.float32)))"
   ]
  },
  {
   "cell_type": "code",
   "execution_count": 17,
   "id": "4853ebd8",
   "metadata": {},
   "outputs": [],
   "source": [
    "def train_model(model, datasets, EPOCHS = 10, BATCH_SIZE = 64, LR=1e-3, VERBOSE = False):\n",
    "    Xtrain, Xvalid, Xtest = datasets['X']\n",
    "    ytrain, yvalid, ytest = datasets['y']\n",
    "    ttrain, tvalid, ttest = datasets['t']\n",
    "    \n",
    "    opt = SGD(model.parameters(), lr=LR)\n",
    "    model_performance = []\n",
    "\n",
    "    # loop through the epochs\n",
    "    for epoch in range(0, EPOCHS):\n",
    "        # initialize tracker variables and set our model to trainable\n",
    "        if VERBOSE: print(\"[INFO] epoch: {}...\".format(epoch + 1))\n",
    "        trainLoss = 0\n",
    "        valLoss = 0\n",
    "        samples = 0\n",
    "        model.train()\n",
    "\n",
    "        # loop over the current batch of data\n",
    "        for (batchX, batcht, batchy) in next_batch(Xtrain, ttrain, ytrain, BATCH_SIZE):\n",
    "\n",
    "            # model, and calculate loss\n",
    "            predictions = model(batchX)\n",
    "            loss = lossFunc(batchy, batcht, predictions)\n",
    "\n",
    "            # zero the gradients accumulated from the previous steps,abs\n",
    "            # perform backpropagation, and update model parameters\n",
    "            opt.zero_grad()\n",
    "            loss.backward()\n",
    "            opt.step()\n",
    "\n",
    "            # update training loss, accuracy, and the number of samples visited\n",
    "            trainLoss += loss.item()\n",
    "            samples += batchy.size(0)\n",
    "                \n",
    "        #Store model and validation error after each epoch: \n",
    "        PATH = \"model_checkpoints/model_state_epoch_\"+str(epoch)+\".pt\"\n",
    "        torch.save(model, PATH)\n",
    "    \n",
    "        predictions_valid = model(torch.from_numpy(Xvalid.astype(np.float32)))\n",
    "        valLoss = lossFunc(torch.from_numpy(yvalid.astype(np.float32)),\n",
    "                           torch.from_numpy(tvalid.astype(np.float32)),\n",
    "                           predictions_valid).detach().numpy()\n",
    "        model_performance.append(valLoss / yvalid.shape[0])\n",
    "\n",
    "        # display model progress on the training and validation data\n",
    "        trainTemplate = \"epoch: {} train loss: {:.3f} val loss {:.3f}\"\n",
    "        if VERBOSE: print(trainTemplate.format(epoch + 1, \n",
    "                                               (trainLoss / samples), \n",
    "                                               (valLoss / yvalid.shape[0])))\n",
    "            \n",
    "    #Load and return model with minimal validation error \n",
    "    best_epoch = np.argmin(model_performance)\n",
    "    print('Best epoch: {} Best val loss: {:.3f}'.format(best_epoch+1, model_performance[best_epoch]))\n",
    "    best_model_path = \"model_checkpoints/model_state_epoch_\"+str(best_epoch)+\".pt\"\n",
    "    best_model = torch.load(best_model_path)\n",
    "    best_model.eval()    \n",
    "    \n",
    "    return best_model"
   ]
  },
  {
   "cell_type": "markdown",
   "id": "6ef6e919",
   "metadata": {},
   "source": [
    "## 5. Report the mean and standard error of the Root Mean Average Precision in Heterogeneous Effect (described in the above papers) across the 10 held out test sets."
   ]
  },
  {
   "cell_type": "code",
   "execution_count": 18,
   "id": "a06a8538",
   "metadata": {},
   "outputs": [],
   "source": [
    "def PEHE(y0_true, y1_true, predictions):\n",
    "    y0_hat = predictions[:,0].reshape(-1,1)\n",
    "    y1_hat = predictions[:,1].reshape(-1,1)\n",
    "    return torch.mean(((y1_true - y0_true)- (y1_hat - y0_hat))**2)"
   ]
  },
  {
   "cell_type": "code",
   "execution_count": 19,
   "id": "2614aad8",
   "metadata": {},
   "outputs": [
    {
     "name": "stdout",
     "output_type": "stream",
     "text": [
      "Iteration: 1\n",
      "Best epoch: 100 Best val loss: 54.070\n",
      "Iteration: 2\n",
      "Best epoch: 100 Best val loss: 66.243\n",
      "Iteration: 3\n",
      "Best epoch: 74 Best val loss: 50.270\n",
      "Iteration: 4\n",
      "Best epoch: 84 Best val loss: 56.477\n",
      "Iteration: 5\n",
      "Best epoch: 100 Best val loss: 52.997\n",
      "Iteration: 6\n",
      "Best epoch: 88 Best val loss: 52.783\n",
      "Iteration: 7\n",
      "Best epoch: 100 Best val loss: 51.086\n",
      "Iteration: 8\n",
      "Best epoch: 37 Best val loss: 38.152\n",
      "Iteration: 9\n",
      "Best epoch: 67 Best val loss: 70.211\n",
      "Iteration: 10\n",
      "Best epoch: 100 Best val loss: 58.835\n",
      "************************\n",
      "Mean of Root PEHE: 7.872\n",
      "Standard Error of Root PEHE: 0.705\n"
     ]
    }
   ],
   "source": [
    "RootPEHE = []\n",
    "for i in range(10):\n",
    "    print('Iteration: {}'.format(i+1))\n",
    "    datasets, D = generate_data_sets(ihdp, 42+i, plot = False)\n",
    "    \n",
    "    model = TarNet(D)\n",
    "    model = train_model(model, \n",
    "                        datasets, \n",
    "                        EPOCHS = 100, \n",
    "                        BATCH_SIZE = 128,\n",
    "                        LR = 1e-5,\n",
    "                        VERBOSE = False)\n",
    "\n",
    "    #Calcualte mean and standard error of the Root Mean Average Precision on test data     \n",
    "    _, _, Xtest = datasets['X']\n",
    "    _, _, ytest = datasets['y']\n",
    "    _, _, ttest = datasets['t']\n",
    "    _, _, y0test = datasets['y0']\n",
    "    _, _, y1test = datasets['y1']\n",
    "    \n",
    "    predictions_test = model(torch.from_numpy(Xtest.astype(np.float32)))\n",
    "    \n",
    "    RootPEHE.append(torch.sqrt(PEHE(torch.from_numpy(y0test.astype(np.float32)), \n",
    "                                    torch.from_numpy(y1test.astype(np.float32)), \n",
    "                                    predictions_test)).detach().numpy())\n",
    "    \n",
    "print('************************')\n",
    "print('Mean of Root PEHE: {:.3f}'.format(np.nanmean(RootPEHE)))\n",
    "print('Standard Error of Root PEHE: {:.3f}'.format(np.std(RootPEHE)))"
   ]
  }
 ],
 "metadata": {
  "kernelspec": {
   "display_name": "Python 3 (ipykernel)",
   "language": "python",
   "name": "python3"
  },
  "language_info": {
   "codemirror_mode": {
    "name": "ipython",
    "version": 3
   },
   "file_extension": ".py",
   "mimetype": "text/x-python",
   "name": "python",
   "nbconvert_exporter": "python",
   "pygments_lexer": "ipython3",
   "version": "3.9.7"
  }
 },
 "nbformat": 4,
 "nbformat_minor": 5
}
